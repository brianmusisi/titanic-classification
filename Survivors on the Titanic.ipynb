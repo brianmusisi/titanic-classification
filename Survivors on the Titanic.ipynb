{
 "cells": [
  {
   "cell_type": "markdown",
   "metadata": {},
   "source": [
    "# Prediciting Survival on the Titanic"
   ]
  },
  {
   "cell_type": "markdown",
   "metadata": {},
   "source": [
    "In this example, we use the (relatively) famous Titanic dataset from [Kaggle](https://www.kaggle.com/). Kaggle is a website that hosts machine-learning/predictive analytics competitions. This dataset is from one of such competitions. \n",
    "It contains information about some of the passengers that were aboard the Titanic and whether they survived or not. The goal is to use this dataset to develop a data model that you can then use on a test set(also provided) to determine if a particular passenger survived or not.\n",
    "\n",
    "The test set does not have the survival status of the passengers. This test set with the predicted values for every passenger in it is then submitted and the accuracy of a particular model determines how well it does on the competition.\n",
    "\n",
    "This data is available [here](https://www.kaggle.com/c/titanic/data). Let's get into it.\n",
    "The data consists of train and test set set as wwll as the gender submision set. We shall mainly use the train set here."
   ]
  },
  {
   "cell_type": "code",
   "execution_count": 33,
   "metadata": {
    "collapsed": false
   },
   "outputs": [
    {
     "name": "stdout",
     "output_type": "stream",
     "text": [
      "/Users/Elizabeth/Desktop/Datasets/Titanic\n"
     ]
    }
   ],
   "source": [
    "cd /Users/Elizabeth/Desktop/Datasets/Titanic"
   ]
  },
  {
   "cell_type": "code",
   "execution_count": 31,
   "metadata": {
    "collapsed": false
   },
   "outputs": [],
   "source": [
    "import pandas as pd, numpy as np\n",
    "from matplotlib import pyplot as plt\n",
    "import seaborn as sns\n",
    "%matplotlib inline"
   ]
  },
  {
   "cell_type": "markdown",
   "metadata": {},
   "source": [
    "We load the training dataset we downloaded from Kaggle"
   ]
  },
  {
   "cell_type": "code",
   "execution_count": 32,
   "metadata": {
    "collapsed": false
   },
   "outputs": [],
   "source": [
    "titanic = pd.read_csv('train.csv', index_col=0)"
   ]
  },
  {
   "cell_type": "code",
   "execution_count": 33,
   "metadata": {
    "collapsed": false
   },
   "outputs": [
    {
     "data": {
      "text/html": [
       "<div>\n",
       "<table border=\"1\" class=\"dataframe\">\n",
       "  <thead>\n",
       "    <tr style=\"text-align: right;\">\n",
       "      <th></th>\n",
       "      <th>Survived</th>\n",
       "      <th>Pclass</th>\n",
       "      <th>Name</th>\n",
       "      <th>Sex</th>\n",
       "      <th>Age</th>\n",
       "      <th>SibSp</th>\n",
       "      <th>Parch</th>\n",
       "      <th>Ticket</th>\n",
       "      <th>Fare</th>\n",
       "      <th>Cabin</th>\n",
       "      <th>Embarked</th>\n",
       "    </tr>\n",
       "    <tr>\n",
       "      <th>PassengerId</th>\n",
       "      <th></th>\n",
       "      <th></th>\n",
       "      <th></th>\n",
       "      <th></th>\n",
       "      <th></th>\n",
       "      <th></th>\n",
       "      <th></th>\n",
       "      <th></th>\n",
       "      <th></th>\n",
       "      <th></th>\n",
       "      <th></th>\n",
       "    </tr>\n",
       "  </thead>\n",
       "  <tbody>\n",
       "    <tr>\n",
       "      <th>1</th>\n",
       "      <td>0</td>\n",
       "      <td>3</td>\n",
       "      <td>Braund, Mr. Owen Harris</td>\n",
       "      <td>male</td>\n",
       "      <td>22.0</td>\n",
       "      <td>1</td>\n",
       "      <td>0</td>\n",
       "      <td>A/5 21171</td>\n",
       "      <td>7.2500</td>\n",
       "      <td>NaN</td>\n",
       "      <td>S</td>\n",
       "    </tr>\n",
       "    <tr>\n",
       "      <th>2</th>\n",
       "      <td>1</td>\n",
       "      <td>1</td>\n",
       "      <td>Cumings, Mrs. John Bradley (Florence Briggs Th...</td>\n",
       "      <td>female</td>\n",
       "      <td>38.0</td>\n",
       "      <td>1</td>\n",
       "      <td>0</td>\n",
       "      <td>PC 17599</td>\n",
       "      <td>71.2833</td>\n",
       "      <td>C85</td>\n",
       "      <td>C</td>\n",
       "    </tr>\n",
       "    <tr>\n",
       "      <th>3</th>\n",
       "      <td>1</td>\n",
       "      <td>3</td>\n",
       "      <td>Heikkinen, Miss. Laina</td>\n",
       "      <td>female</td>\n",
       "      <td>26.0</td>\n",
       "      <td>0</td>\n",
       "      <td>0</td>\n",
       "      <td>STON/O2. 3101282</td>\n",
       "      <td>7.9250</td>\n",
       "      <td>NaN</td>\n",
       "      <td>S</td>\n",
       "    </tr>\n",
       "    <tr>\n",
       "      <th>4</th>\n",
       "      <td>1</td>\n",
       "      <td>1</td>\n",
       "      <td>Futrelle, Mrs. Jacques Heath (Lily May Peel)</td>\n",
       "      <td>female</td>\n",
       "      <td>35.0</td>\n",
       "      <td>1</td>\n",
       "      <td>0</td>\n",
       "      <td>113803</td>\n",
       "      <td>53.1000</td>\n",
       "      <td>C123</td>\n",
       "      <td>S</td>\n",
       "    </tr>\n",
       "    <tr>\n",
       "      <th>5</th>\n",
       "      <td>0</td>\n",
       "      <td>3</td>\n",
       "      <td>Allen, Mr. William Henry</td>\n",
       "      <td>male</td>\n",
       "      <td>35.0</td>\n",
       "      <td>0</td>\n",
       "      <td>0</td>\n",
       "      <td>373450</td>\n",
       "      <td>8.0500</td>\n",
       "      <td>NaN</td>\n",
       "      <td>S</td>\n",
       "    </tr>\n",
       "  </tbody>\n",
       "</table>\n",
       "</div>"
      ],
      "text/plain": [
       "             Survived  Pclass  \\\n",
       "PassengerId                     \n",
       "1                   0       3   \n",
       "2                   1       1   \n",
       "3                   1       3   \n",
       "4                   1       1   \n",
       "5                   0       3   \n",
       "\n",
       "                                                          Name     Sex   Age  \\\n",
       "PassengerId                                                                    \n",
       "1                                      Braund, Mr. Owen Harris    male  22.0   \n",
       "2            Cumings, Mrs. John Bradley (Florence Briggs Th...  female  38.0   \n",
       "3                                       Heikkinen, Miss. Laina  female  26.0   \n",
       "4                 Futrelle, Mrs. Jacques Heath (Lily May Peel)  female  35.0   \n",
       "5                                     Allen, Mr. William Henry    male  35.0   \n",
       "\n",
       "             SibSp  Parch            Ticket     Fare Cabin Embarked  \n",
       "PassengerId                                                          \n",
       "1                1      0         A/5 21171   7.2500   NaN        S  \n",
       "2                1      0          PC 17599  71.2833   C85        C  \n",
       "3                0      0  STON/O2. 3101282   7.9250   NaN        S  \n",
       "4                1      0            113803  53.1000  C123        S  \n",
       "5                0      0            373450   8.0500   NaN        S  "
      ]
     },
     "execution_count": 33,
     "metadata": {},
     "output_type": "execute_result"
    }
   ],
   "source": [
    "titanic.head()"
   ]
  },
  {
   "cell_type": "markdown",
   "metadata": {},
   "source": [
    "Above we use the first column which corresponds to the Passenger id as the index since it is unique for each passenger. We can see the diferent columns we are working with above.\n",
    "\n",
    "We can use some visualizations to determine the relations between the different features and the survival of a passenger."
   ]
  },
  {
   "cell_type": "code",
   "execution_count": 34,
   "metadata": {
    "collapsed": false
   },
   "outputs": [
    {
     "data": {
      "image/png": "[encoded data removed]",
      "text/plain": [
       "<matplotlib.figure.Figure at 0x118918990>"
      ]
     },
     "metadata": {},
     "output_type": "display_data"
    }
   ],
   "source": [
    "with sns.axes_style(style=\"whitegrid\"):\n",
    "    \n",
    "    g= sns.FacetGrid(titanic, col=\"Pclass\", size=4)\n",
    "    g.map(plt.hist, \"Survived\")\n",
    "    plt.xticks([0,1]);"
   ]
  },
  {
   "cell_type": "markdown",
   "metadata": {},
   "source": [
    "From the above it looks like the survival of an individual was linked to their class. For first class passengers there was a higher chance of surviving than dying which is contrasted with those in third class for whom it was much more likely that they die than survive."
   ]
  },
  {
   "cell_type": "code",
   "execution_count": 35,
   "metadata": {
    "collapsed": false
   },
   "outputs": [],
   "source": [
    "bins = range(0,90,10)\n",
    "titanic['cats'] = pd.cut(titanic['Age'], bins)"
   ]
  },
  {
   "cell_type": "code",
   "execution_count": 36,
   "metadata": {
    "collapsed": false
   },
   "outputs": [
    {
     "data": {
      "image/png": "[encoded data removed]",
      "text/plain": [
       "<matplotlib.figure.Figure at 0x118918850>"
      ]
     },
     "metadata": {},
     "output_type": "display_data"
    }
   ],
   "source": [
    "with sns.axes_style(style=\"whitegrid\"):\n",
    "    sns.barplot(x=\"cats\", y=\"Survived\", data=titanic, ci=None, palette=\"Blues\");"
   ]
  },
  {
   "cell_type": "code",
   "execution_count": 37,
   "metadata": {
    "collapsed": false
   },
   "outputs": [
    {
     "data": {
      "image/png": "[encoded data removed]",
      "text/plain": [
       "<matplotlib.figure.Figure at 0x119a3ef10>"
      ]
     },
     "metadata": {},
     "output_type": "display_data"
    }
   ],
   "source": [
    "sns.set_style(style=\"whitegrid\")\n",
    "sns.barplot(x=\"Sex\", y= \"Survived\", data= titanic, ci=None, hue=\"Pclass\");"
   ]
  },
  {
   "cell_type": "markdown",
   "metadata": {},
   "source": [
    "From the above we can see that children had a higher chance of survival as did females compared to males."
   ]
  },
  {
   "cell_type": "code",
   "execution_count": 40,
   "metadata": {
    "collapsed": false
   },
   "outputs": [
    {
     "data": {
      "image/png": "[encoded data removed]",
      "text/plain": [
       "<matplotlib.figure.Figure at 0x11890bd50>"
      ]
     },
     "metadata": {},
     "output_type": "display_data"
    }
   ],
   "source": [
    "g = sns.FacetGrid(titanic, col=\"Embarked\", size=4)\n",
    "g.map(plt.hist, \"Survived\")\n",
    "plt.xticks([0,1]);"
   ]
  },
  {
   "cell_type": "markdown",
   "metadata": {},
   "source": [
    "For the port where the passengers embarked, there is no clear cut relationship. Port \"S\" has the highest number of deathes though it alos has the highest number of survivals and passengers in general.\n",
    "\n",
    "We shall drop this row when doing our analysis."
   ]
  },
  {
   "cell_type": "code",
   "execution_count": 41,
   "metadata": {
    "collapsed": false
   },
   "outputs": [
    {
     "data": {
      "text/html": [
       "<div>\n",
       "<table border=\"1\" class=\"dataframe\">\n",
       "  <thead>\n",
       "    <tr style=\"text-align: right;\">\n",
       "      <th></th>\n",
       "      <th>Survived</th>\n",
       "      <th>Pclass</th>\n",
       "      <th>Age</th>\n",
       "      <th>SibSp</th>\n",
       "      <th>Parch</th>\n",
       "      <th>Fare</th>\n",
       "    </tr>\n",
       "  </thead>\n",
       "  <tbody>\n",
       "    <tr>\n",
       "      <th>Survived</th>\n",
       "      <td>1.000000</td>\n",
       "      <td>-0.338481</td>\n",
       "      <td>-0.077221</td>\n",
       "      <td>-0.035322</td>\n",
       "      <td>0.081629</td>\n",
       "      <td>0.257307</td>\n",
       "    </tr>\n",
       "    <tr>\n",
       "      <th>Pclass</th>\n",
       "      <td>-0.338481</td>\n",
       "      <td>1.000000</td>\n",
       "      <td>-0.369226</td>\n",
       "      <td>0.083081</td>\n",
       "      <td>0.018443</td>\n",
       "      <td>-0.549500</td>\n",
       "    </tr>\n",
       "    <tr>\n",
       "      <th>Age</th>\n",
       "      <td>-0.077221</td>\n",
       "      <td>-0.369226</td>\n",
       "      <td>1.000000</td>\n",
       "      <td>-0.308247</td>\n",
       "      <td>-0.189119</td>\n",
       "      <td>0.096067</td>\n",
       "    </tr>\n",
       "    <tr>\n",
       "      <th>SibSp</th>\n",
       "      <td>-0.035322</td>\n",
       "      <td>0.083081</td>\n",
       "      <td>-0.308247</td>\n",
       "      <td>1.000000</td>\n",
       "      <td>0.414838</td>\n",
       "      <td>0.159651</td>\n",
       "    </tr>\n",
       "    <tr>\n",
       "      <th>Parch</th>\n",
       "      <td>0.081629</td>\n",
       "      <td>0.018443</td>\n",
       "      <td>-0.189119</td>\n",
       "      <td>0.414838</td>\n",
       "      <td>1.000000</td>\n",
       "      <td>0.216225</td>\n",
       "    </tr>\n",
       "    <tr>\n",
       "      <th>Fare</th>\n",
       "      <td>0.257307</td>\n",
       "      <td>-0.549500</td>\n",
       "      <td>0.096067</td>\n",
       "      <td>0.159651</td>\n",
       "      <td>0.216225</td>\n",
       "      <td>1.000000</td>\n",
       "    </tr>\n",
       "  </tbody>\n",
       "</table>\n",
       "</div>"
      ],
      "text/plain": [
       "          Survived    Pclass       Age     SibSp     Parch      Fare\n",
       "Survived  1.000000 -0.338481 -0.077221 -0.035322  0.081629  0.257307\n",
       "Pclass   -0.338481  1.000000 -0.369226  0.083081  0.018443 -0.549500\n",
       "Age      -0.077221 -0.369226  1.000000 -0.308247 -0.189119  0.096067\n",
       "SibSp    -0.035322  0.083081 -0.308247  1.000000  0.414838  0.159651\n",
       "Parch     0.081629  0.018443 -0.189119  0.414838  1.000000  0.216225\n",
       "Fare      0.257307 -0.549500  0.096067  0.159651  0.216225  1.000000"
      ]
     },
     "execution_count": 41,
     "metadata": {},
     "output_type": "execute_result"
    }
   ],
   "source": [
    "corr = titanic.corr()\n",
    "corr"
   ]
  },
  {
   "cell_type": "code",
   "execution_count": 42,
   "metadata": {
    "collapsed": false
   },
   "outputs": [
    {
     "data": {
      "image/png": "[encoded data removed]",
      "text/plain": [
       "<matplotlib.figure.Figure at 0x119e46fd0>"
      ]
     },
     "metadata": {},
     "output_type": "display_data"
    }
   ],
   "source": [
    "mask = np.zeros_like(corr, dtype=np.bool)\n",
    "mask[np.triu_indices_from(mask)] = True\n",
    "\n",
    "f, ax = plt.subplots(figsize=(11, 9))\n",
    "\n",
    "cmap = sns.diverging_palette(220, 10, as_cmap=True)\n",
    "\n",
    "sns.heatmap(corr, mask=mask, cmap=cmap, vmax=.3, center=0, square=True, linewidths=.5, cbar_kws={\"shrink\": .5});"
   ]
  },
  {
   "cell_type": "markdown",
   "metadata": {},
   "source": [
    "From the correlation above we can see some evidence of the paterns we had seen with the visualizations.\n",
    "\n",
    "We expect survival to be negatively correlated with Pclass. Which means first class passengers are more likely to survive than lower class ones(thid class).\n",
    "We also saw from the graphs and see from the correlation that Age has a slightly negative correlation with survival. Meaning younger people are more likely to survive. Especially those who were younger than 10.\n",
    "\n",
    "Also from the graphs above we had seen that females were more likely to survive than males.\n",
    "If you watched James Cameron's 1995 movie classic \"The Titanic\" that was based on the events of the Titanic shipwreck then you might remember that priority was given to saving women and children first.\n",
    "\n",
    "We shall then start our analysis. First we drop the columns that we do not need."
   ]
  },
  {
   "cell_type": "code",
   "execution_count": 43,
   "metadata": {
    "collapsed": false
   },
   "outputs": [],
   "source": [
    "titanic = titanic.drop(['Name', 'Embarked', 'cats','Ticket', 'Cabin'], axis=1)"
   ]
  },
  {
   "cell_type": "markdown",
   "metadata": {},
   "source": [
    "We also make the Sex column numerical using 0 for male and 1 for female"
   ]
  },
  {
   "cell_type": "code",
   "execution_count": 44,
   "metadata": {
    "collapsed": true
   },
   "outputs": [],
   "source": [
    "titanic['Sex'] = titanic['Sex'].map({'male':0, 'female':1})"
   ]
  },
  {
   "cell_type": "code",
   "execution_count": 45,
   "metadata": {
    "collapsed": false
   },
   "outputs": [
    {
     "data": {
      "text/html": [
       "<div>\n",
       "<table border=\"1\" class=\"dataframe\">\n",
       "  <thead>\n",
       "    <tr style=\"text-align: right;\">\n",
       "      <th></th>\n",
       "      <th>Survived</th>\n",
       "      <th>Pclass</th>\n",
       "      <th>Sex</th>\n",
       "      <th>Age</th>\n",
       "      <th>SibSp</th>\n",
       "      <th>Parch</th>\n",
       "      <th>Fare</th>\n",
       "    </tr>\n",
       "    <tr>\n",
       "      <th>PassengerId</th>\n",
       "      <th></th>\n",
       "      <th></th>\n",
       "      <th></th>\n",
       "      <th></th>\n",
       "      <th></th>\n",
       "      <th></th>\n",
       "      <th></th>\n",
       "    </tr>\n",
       "  </thead>\n",
       "  <tbody>\n",
       "    <tr>\n",
       "      <th>1</th>\n",
       "      <td>0</td>\n",
       "      <td>3</td>\n",
       "      <td>0</td>\n",
       "      <td>22.0</td>\n",
       "      <td>1</td>\n",
       "      <td>0</td>\n",
       "      <td>7.2500</td>\n",
       "    </tr>\n",
       "    <tr>\n",
       "      <th>2</th>\n",
       "      <td>1</td>\n",
       "      <td>1</td>\n",
       "      <td>1</td>\n",
       "      <td>38.0</td>\n",
       "      <td>1</td>\n",
       "      <td>0</td>\n",
       "      <td>71.2833</td>\n",
       "    </tr>\n",
       "    <tr>\n",
       "      <th>3</th>\n",
       "      <td>1</td>\n",
       "      <td>3</td>\n",
       "      <td>1</td>\n",
       "      <td>26.0</td>\n",
       "      <td>0</td>\n",
       "      <td>0</td>\n",
       "      <td>7.9250</td>\n",
       "    </tr>\n",
       "    <tr>\n",
       "      <th>4</th>\n",
       "      <td>1</td>\n",
       "      <td>1</td>\n",
       "      <td>1</td>\n",
       "      <td>35.0</td>\n",
       "      <td>1</td>\n",
       "      <td>0</td>\n",
       "      <td>53.1000</td>\n",
       "    </tr>\n",
       "    <tr>\n",
       "      <th>5</th>\n",
       "      <td>0</td>\n",
       "      <td>3</td>\n",
       "      <td>0</td>\n",
       "      <td>35.0</td>\n",
       "      <td>0</td>\n",
       "      <td>0</td>\n",
       "      <td>8.0500</td>\n",
       "    </tr>\n",
       "  </tbody>\n",
       "</table>\n",
       "</div>"
      ],
      "text/plain": [
       "             Survived  Pclass  Sex   Age  SibSp  Parch     Fare\n",
       "PassengerId                                                    \n",
       "1                   0       3    0  22.0      1      0   7.2500\n",
       "2                   1       1    1  38.0      1      0  71.2833\n",
       "3                   1       3    1  26.0      0      0   7.9250\n",
       "4                   1       1    1  35.0      1      0  53.1000\n",
       "5                   0       3    0  35.0      0      0   8.0500"
      ]
     },
     "execution_count": 45,
     "metadata": {},
     "output_type": "execute_result"
    }
   ],
   "source": [
    "titanic.head()"
   ]
  },
  {
   "cell_type": "markdown",
   "metadata": {},
   "source": [
    "we shall add extra features made from these columns. We shall add quadratic features for the second power. Here every column will be multiplied by every other column, including itself to create a new column."
   ]
  },
  {
   "cell_type": "code",
   "execution_count": 42,
   "metadata": {
    "collapsed": true
   },
   "outputs": [],
   "source": [
    "titanicf = titanic.copy()\n"
   ]
  },
  {
   "cell_type": "code",
   "execution_count": 43,
   "metadata": {
    "collapsed": false
   },
   "outputs": [],
   "source": [
    "cols = titanicf.ix[:,1:].columns\n",
    "for col in cols:\n",
    "    for col2 in cols:\n",
    "        name = col + ' * ' + col2\n",
    "        titanicf[name]= titanic[col]* titanic[col2]"
   ]
  },
  {
   "cell_type": "code",
   "execution_count": 44,
   "metadata": {
    "collapsed": false
   },
   "outputs": [
    {
     "data": {
      "text/html": [
       "<div>\n",
       "<table border=\"1\" class=\"dataframe\">\n",
       "  <thead>\n",
       "    <tr style=\"text-align: right;\">\n",
       "      <th></th>\n",
       "      <th>Survived</th>\n",
       "      <th>Pclass</th>\n",
       "      <th>Sex</th>\n",
       "      <th>Age</th>\n",
       "      <th>SibSp</th>\n",
       "      <th>Parch</th>\n",
       "      <th>Fare</th>\n",
       "      <th>Pclass * Pclass</th>\n",
       "      <th>Pclass * Sex</th>\n",
       "      <th>Pclass * Age</th>\n",
       "      <th>...</th>\n",
       "      <th>Parch * Age</th>\n",
       "      <th>Parch * SibSp</th>\n",
       "      <th>Parch * Parch</th>\n",
       "      <th>Parch * Fare</th>\n",
       "      <th>Fare * Pclass</th>\n",
       "      <th>Fare * Sex</th>\n",
       "      <th>Fare * Age</th>\n",
       "      <th>Fare * SibSp</th>\n",
       "      <th>Fare * Parch</th>\n",
       "      <th>Fare * Fare</th>\n",
       "    </tr>\n",
       "    <tr>\n",
       "      <th>PassengerId</th>\n",
       "      <th></th>\n",
       "      <th></th>\n",
       "      <th></th>\n",
       "      <th></th>\n",
       "      <th></th>\n",
       "      <th></th>\n",
       "      <th></th>\n",
       "      <th></th>\n",
       "      <th></th>\n",
       "      <th></th>\n",
       "      <th></th>\n",
       "      <th></th>\n",
       "      <th></th>\n",
       "      <th></th>\n",
       "      <th></th>\n",
       "      <th></th>\n",
       "      <th></th>\n",
       "      <th></th>\n",
       "      <th></th>\n",
       "      <th></th>\n",
       "      <th></th>\n",
       "    </tr>\n",
       "  </thead>\n",
       "  <tbody>\n",
       "    <tr>\n",
       "      <th>1</th>\n",
       "      <td>0</td>\n",
       "      <td>3</td>\n",
       "      <td>0</td>\n",
       "      <td>22.0</td>\n",
       "      <td>1</td>\n",
       "      <td>0</td>\n",
       "      <td>7.2500</td>\n",
       "      <td>9</td>\n",
       "      <td>0</td>\n",
       "      <td>66.0</td>\n",
       "      <td>...</td>\n",
       "      <td>0.0</td>\n",
       "      <td>0</td>\n",
       "      <td>0</td>\n",
       "      <td>0.0</td>\n",
       "      <td>21.7500</td>\n",
       "      <td>0.0000</td>\n",
       "      <td>159.5000</td>\n",
       "      <td>7.2500</td>\n",
       "      <td>0.0</td>\n",
       "      <td>52.562500</td>\n",
       "    </tr>\n",
       "    <tr>\n",
       "      <th>2</th>\n",
       "      <td>1</td>\n",
       "      <td>1</td>\n",
       "      <td>1</td>\n",
       "      <td>38.0</td>\n",
       "      <td>1</td>\n",
       "      <td>0</td>\n",
       "      <td>71.2833</td>\n",
       "      <td>1</td>\n",
       "      <td>1</td>\n",
       "      <td>38.0</td>\n",
       "      <td>...</td>\n",
       "      <td>0.0</td>\n",
       "      <td>0</td>\n",
       "      <td>0</td>\n",
       "      <td>0.0</td>\n",
       "      <td>71.2833</td>\n",
       "      <td>71.2833</td>\n",
       "      <td>2708.7654</td>\n",
       "      <td>71.2833</td>\n",
       "      <td>0.0</td>\n",
       "      <td>5081.308859</td>\n",
       "    </tr>\n",
       "    <tr>\n",
       "      <th>3</th>\n",
       "      <td>1</td>\n",
       "      <td>3</td>\n",
       "      <td>1</td>\n",
       "      <td>26.0</td>\n",
       "      <td>0</td>\n",
       "      <td>0</td>\n",
       "      <td>7.9250</td>\n",
       "      <td>9</td>\n",
       "      <td>3</td>\n",
       "      <td>78.0</td>\n",
       "      <td>...</td>\n",
       "      <td>0.0</td>\n",
       "      <td>0</td>\n",
       "      <td>0</td>\n",
       "      <td>0.0</td>\n",
       "      <td>23.7750</td>\n",
       "      <td>7.9250</td>\n",
       "      <td>206.0500</td>\n",
       "      <td>0.0000</td>\n",
       "      <td>0.0</td>\n",
       "      <td>62.805625</td>\n",
       "    </tr>\n",
       "    <tr>\n",
       "      <th>4</th>\n",
       "      <td>1</td>\n",
       "      <td>1</td>\n",
       "      <td>1</td>\n",
       "      <td>35.0</td>\n",
       "      <td>1</td>\n",
       "      <td>0</td>\n",
       "      <td>53.1000</td>\n",
       "      <td>1</td>\n",
       "      <td>1</td>\n",
       "      <td>35.0</td>\n",
       "      <td>...</td>\n",
       "      <td>0.0</td>\n",
       "      <td>0</td>\n",
       "      <td>0</td>\n",
       "      <td>0.0</td>\n",
       "      <td>53.1000</td>\n",
       "      <td>53.1000</td>\n",
       "      <td>1858.5000</td>\n",
       "      <td>53.1000</td>\n",
       "      <td>0.0</td>\n",
       "      <td>2819.610000</td>\n",
       "    </tr>\n",
       "    <tr>\n",
       "      <th>5</th>\n",
       "      <td>0</td>\n",
       "      <td>3</td>\n",
       "      <td>0</td>\n",
       "      <td>35.0</td>\n",
       "      <td>0</td>\n",
       "      <td>0</td>\n",
       "      <td>8.0500</td>\n",
       "      <td>9</td>\n",
       "      <td>0</td>\n",
       "      <td>105.0</td>\n",
       "      <td>...</td>\n",
       "      <td>0.0</td>\n",
       "      <td>0</td>\n",
       "      <td>0</td>\n",
       "      <td>0.0</td>\n",
       "      <td>24.1500</td>\n",
       "      <td>0.0000</td>\n",
       "      <td>281.7500</td>\n",
       "      <td>0.0000</td>\n",
       "      <td>0.0</td>\n",
       "      <td>64.802500</td>\n",
       "    </tr>\n",
       "  </tbody>\n",
       "</table>\n",
       "<p>5 rows × 43 columns</p>\n",
       "</div>"
      ],
      "text/plain": [
       "             Survived  Pclass  Sex   Age  SibSp  Parch     Fare  \\\n",
       "PassengerId                                                       \n",
       "1                   0       3    0  22.0      1      0   7.2500   \n",
       "2                   1       1    1  38.0      1      0  71.2833   \n",
       "3                   1       3    1  26.0      0      0   7.9250   \n",
       "4                   1       1    1  35.0      1      0  53.1000   \n",
       "5                   0       3    0  35.0      0      0   8.0500   \n",
       "\n",
       "             Pclass * Pclass  Pclass * Sex  Pclass * Age     ...       \\\n",
       "PassengerId                                                  ...        \n",
       "1                          9             0          66.0     ...        \n",
       "2                          1             1          38.0     ...        \n",
       "3                          9             3          78.0     ...        \n",
       "4                          1             1          35.0     ...        \n",
       "5                          9             0         105.0     ...        \n",
       "\n",
       "             Parch * Age  Parch * SibSp  Parch * Parch  Parch * Fare  \\\n",
       "PassengerId                                                            \n",
       "1                    0.0              0              0           0.0   \n",
       "2                    0.0              0              0           0.0   \n",
       "3                    0.0              0              0           0.0   \n",
       "4                    0.0              0              0           0.0   \n",
       "5                    0.0              0              0           0.0   \n",
       "\n",
       "             Fare * Pclass  Fare * Sex  Fare * Age  Fare * SibSp  \\\n",
       "PassengerId                                                        \n",
       "1                  21.7500      0.0000    159.5000        7.2500   \n",
       "2                  71.2833     71.2833   2708.7654       71.2833   \n",
       "3                  23.7750      7.9250    206.0500        0.0000   \n",
       "4                  53.1000     53.1000   1858.5000       53.1000   \n",
       "5                  24.1500      0.0000    281.7500        0.0000   \n",
       "\n",
       "             Fare * Parch  Fare * Fare  \n",
       "PassengerId                             \n",
       "1                     0.0    52.562500  \n",
       "2                     0.0  5081.308859  \n",
       "3                     0.0    62.805625  \n",
       "4                     0.0  2819.610000  \n",
       "5                     0.0    64.802500  \n",
       "\n",
       "[5 rows x 43 columns]"
      ]
     },
     "execution_count": 44,
     "metadata": {},
     "output_type": "execute_result"
    }
   ],
   "source": [
    "titanicf.head()"
   ]
  },
  {
   "cell_type": "markdown",
   "metadata": {},
   "source": [
    "We shall then forward-fill any null values. This should not have a big effect as there are few null values. In addition we shall also mean normalize these features and also scale them so that they all have zero mean and standard deviation of 1. This will ensure that the features take up the same ranges."
   ]
  },
  {
   "cell_type": "code",
   "execution_count": 45,
   "metadata": {
    "collapsed": false
   },
   "outputs": [],
   "source": [
    "titanicf = titanicf.fillna(method='ffill')\n",
    "titanicf = (titanicf- titanicf.mean())/titanicf.std()"
   ]
  },
  {
   "cell_type": "code",
   "execution_count": 46,
   "metadata": {
    "collapsed": false
   },
   "outputs": [
    {
     "data": {
      "text/html": [
       "<div>\n",
       "<table border=\"1\" class=\"dataframe\">\n",
       "  <thead>\n",
       "    <tr style=\"text-align: right;\">\n",
       "      <th></th>\n",
       "      <th>Survived</th>\n",
       "      <th>Pclass</th>\n",
       "      <th>Sex</th>\n",
       "      <th>Age</th>\n",
       "      <th>SibSp</th>\n",
       "      <th>Parch</th>\n",
       "      <th>Fare</th>\n",
       "      <th>Pclass * Pclass</th>\n",
       "      <th>Pclass * Sex</th>\n",
       "      <th>Pclass * Age</th>\n",
       "      <th>...</th>\n",
       "      <th>Parch * Age</th>\n",
       "      <th>Parch * SibSp</th>\n",
       "      <th>Parch * Parch</th>\n",
       "      <th>Parch * Fare</th>\n",
       "      <th>Fare * Pclass</th>\n",
       "      <th>Fare * Sex</th>\n",
       "      <th>Fare * Age</th>\n",
       "      <th>Fare * SibSp</th>\n",
       "      <th>Fare * Parch</th>\n",
       "      <th>Fare * Fare</th>\n",
       "    </tr>\n",
       "    <tr>\n",
       "      <th>PassengerId</th>\n",
       "      <th></th>\n",
       "      <th></th>\n",
       "      <th></th>\n",
       "      <th></th>\n",
       "      <th></th>\n",
       "      <th></th>\n",
       "      <th></th>\n",
       "      <th></th>\n",
       "      <th></th>\n",
       "      <th></th>\n",
       "      <th></th>\n",
       "      <th></th>\n",
       "      <th></th>\n",
       "      <th></th>\n",
       "      <th></th>\n",
       "      <th></th>\n",
       "      <th></th>\n",
       "      <th></th>\n",
       "      <th></th>\n",
       "      <th></th>\n",
       "      <th></th>\n",
       "    </tr>\n",
       "  </thead>\n",
       "  <tbody>\n",
       "    <tr>\n",
       "      <th>1</th>\n",
       "      <td>0</td>\n",
       "      <td>0.826913</td>\n",
       "      <td>-0.737281</td>\n",
       "      <td>-0.520905</td>\n",
       "      <td>0.432550</td>\n",
       "      <td>-0.473408</td>\n",
       "      <td>-0.502163</td>\n",
       "      <td>0.863019</td>\n",
       "      <td>-0.661393</td>\n",
       "      <td>0.124378</td>\n",
       "      <td>...</td>\n",
       "      <td>-0.357083</td>\n",
       "      <td>-0.286922</td>\n",
       "      <td>-0.289925</td>\n",
       "      <td>-0.296883</td>\n",
       "      <td>-0.577640</td>\n",
       "      <td>-0.387664</td>\n",
       "      <td>-0.451910</td>\n",
       "      <td>-0.230631</td>\n",
       "      <td>-0.296883</td>\n",
       "      <td>-0.199193</td>\n",
       "    </tr>\n",
       "    <tr>\n",
       "      <th>2</th>\n",
       "      <td>1</td>\n",
       "      <td>-1.565228</td>\n",
       "      <td>1.354813</td>\n",
       "      <td>0.578404</td>\n",
       "      <td>0.432550</td>\n",
       "      <td>-0.473408</td>\n",
       "      <td>0.786404</td>\n",
       "      <td>-1.460093</td>\n",
       "      <td>0.207783</td>\n",
       "      <td>-0.685413</td>\n",
       "      <td>...</td>\n",
       "      <td>-0.357083</td>\n",
       "      <td>-0.286922</td>\n",
       "      <td>-0.289925</td>\n",
       "      <td>-0.296883</td>\n",
       "      <td>0.382721</td>\n",
       "      <td>1.375240</td>\n",
       "      <td>0.696266</td>\n",
       "      <td>0.574959</td>\n",
       "      <td>-0.296883</td>\n",
       "      <td>0.091050</td>\n",
       "    </tr>\n",
       "    <tr>\n",
       "      <th>3</th>\n",
       "      <td>1</td>\n",
       "      <td>0.826913</td>\n",
       "      <td>1.354813</td>\n",
       "      <td>-0.246078</td>\n",
       "      <td>-0.474279</td>\n",
       "      <td>-0.473408</td>\n",
       "      <td>-0.488580</td>\n",
       "      <td>0.863019</td>\n",
       "      <td>1.946134</td>\n",
       "      <td>0.471431</td>\n",
       "      <td>...</td>\n",
       "      <td>-0.357083</td>\n",
       "      <td>-0.286922</td>\n",
       "      <td>-0.289925</td>\n",
       "      <td>-0.296883</td>\n",
       "      <td>-0.538379</td>\n",
       "      <td>-0.191671</td>\n",
       "      <td>-0.430944</td>\n",
       "      <td>-0.321842</td>\n",
       "      <td>-0.296883</td>\n",
       "      <td>-0.198602</td>\n",
       "    </tr>\n",
       "    <tr>\n",
       "      <th>4</th>\n",
       "      <td>1</td>\n",
       "      <td>-1.565228</td>\n",
       "      <td>1.354813</td>\n",
       "      <td>0.372284</td>\n",
       "      <td>0.432550</td>\n",
       "      <td>-0.473408</td>\n",
       "      <td>0.420494</td>\n",
       "      <td>-1.460093</td>\n",
       "      <td>0.207783</td>\n",
       "      <td>-0.772176</td>\n",
       "      <td>...</td>\n",
       "      <td>-0.357083</td>\n",
       "      <td>-0.286922</td>\n",
       "      <td>-0.289925</td>\n",
       "      <td>-0.296883</td>\n",
       "      <td>0.030179</td>\n",
       "      <td>0.925549</td>\n",
       "      <td>0.313311</td>\n",
       "      <td>0.346199</td>\n",
       "      <td>-0.296883</td>\n",
       "      <td>-0.039488</td>\n",
       "    </tr>\n",
       "    <tr>\n",
       "      <th>5</th>\n",
       "      <td>0</td>\n",
       "      <td>0.826913</td>\n",
       "      <td>-0.737281</td>\n",
       "      <td>0.372284</td>\n",
       "      <td>-0.474279</td>\n",
       "      <td>-0.473408</td>\n",
       "      <td>-0.486064</td>\n",
       "      <td>0.863019</td>\n",
       "      <td>-0.661393</td>\n",
       "      <td>1.252301</td>\n",
       "      <td>...</td>\n",
       "      <td>-0.357083</td>\n",
       "      <td>-0.286922</td>\n",
       "      <td>-0.289925</td>\n",
       "      <td>-0.296883</td>\n",
       "      <td>-0.531109</td>\n",
       "      <td>-0.387664</td>\n",
       "      <td>-0.396849</td>\n",
       "      <td>-0.321842</td>\n",
       "      <td>-0.296883</td>\n",
       "      <td>-0.198486</td>\n",
       "    </tr>\n",
       "  </tbody>\n",
       "</table>\n",
       "<p>5 rows × 43 columns</p>\n",
       "</div>"
      ],
      "text/plain": [
       "             Survived    Pclass       Sex       Age     SibSp     Parch  \\\n",
       "PassengerId                                                               \n",
       "1                   0  0.826913 -0.737281 -0.520905  0.432550 -0.473408   \n",
       "2                   1 -1.565228  1.354813  0.578404  0.432550 -0.473408   \n",
       "3                   1  0.826913  1.354813 -0.246078 -0.474279 -0.473408   \n",
       "4                   1 -1.565228  1.354813  0.372284  0.432550 -0.473408   \n",
       "5                   0  0.826913 -0.737281  0.372284 -0.474279 -0.473408   \n",
       "\n",
       "                 Fare  Pclass * Pclass  Pclass * Sex  Pclass * Age  \\\n",
       "PassengerId                                                          \n",
       "1           -0.502163         0.863019     -0.661393      0.124378   \n",
       "2            0.786404        -1.460093      0.207783     -0.685413   \n",
       "3           -0.488580         0.863019      1.946134      0.471431   \n",
       "4            0.420494        -1.460093      0.207783     -0.772176   \n",
       "5           -0.486064         0.863019     -0.661393      1.252301   \n",
       "\n",
       "                ...       Parch * Age  Parch * SibSp  Parch * Parch  \\\n",
       "PassengerId     ...                                                   \n",
       "1               ...         -0.357083      -0.286922      -0.289925   \n",
       "2               ...         -0.357083      -0.286922      -0.289925   \n",
       "3               ...         -0.357083      -0.286922      -0.289925   \n",
       "4               ...         -0.357083      -0.286922      -0.289925   \n",
       "5               ...         -0.357083      -0.286922      -0.289925   \n",
       "\n",
       "             Parch * Fare  Fare * Pclass  Fare * Sex  Fare * Age  \\\n",
       "PassengerId                                                        \n",
       "1               -0.296883      -0.577640   -0.387664   -0.451910   \n",
       "2               -0.296883       0.382721    1.375240    0.696266   \n",
       "3               -0.296883      -0.538379   -0.191671   -0.430944   \n",
       "4               -0.296883       0.030179    0.925549    0.313311   \n",
       "5               -0.296883      -0.531109   -0.387664   -0.396849   \n",
       "\n",
       "             Fare * SibSp  Fare * Parch  Fare * Fare  \n",
       "PassengerId                                           \n",
       "1               -0.230631     -0.296883    -0.199193  \n",
       "2                0.574959     -0.296883     0.091050  \n",
       "3               -0.321842     -0.296883    -0.198602  \n",
       "4                0.346199     -0.296883    -0.039488  \n",
       "5               -0.321842     -0.296883    -0.198486  \n",
       "\n",
       "[5 rows x 43 columns]"
      ]
     },
     "execution_count": 46,
     "metadata": {},
     "output_type": "execute_result"
    }
   ],
   "source": [
    "titanicf['Survived'] = titanic['Survived']\n",
    "titanicf.head()"
   ]
  },
  {
   "cell_type": "markdown",
   "metadata": {},
   "source": [
    "We then separate this into three datasets. The training set, the cross-validation set and the test set.These shall be split 60-20-20 respectively. We shall shuffle the data and randomly assign the passengers to the different mini datasets."
   ]
  },
  {
   "cell_type": "code",
   "execution_count": 47,
   "metadata": {
    "collapsed": true
   },
   "outputs": [],
   "source": [
    "perm = np.random.permutation(891) +1"
   ]
  },
  {
   "cell_type": "code",
   "execution_count": 48,
   "metadata": {
    "collapsed": false
   },
   "outputs": [],
   "source": [
    "train = titanicf.ix[perm[:534]]\n",
    "cross = titanicf.ix[perm[534:712]]\n",
    "test = titanicf.ix[perm[712:]]"
   ]
  },
  {
   "cell_type": "markdown",
   "metadata": {},
   "source": [
    "For each of the datasets we separate the features from the results and convert each to a matrix."
   ]
  },
  {
   "cell_type": "code",
   "execution_count": 49,
   "metadata": {
    "collapsed": true
   },
   "outputs": [],
   "source": [
    "X, y = train.ix[:, 1:].as_matrix(), train.ix[:, 0].as_matrix()\n",
    "Xval, yval = cross.ix[:, 1:].as_matrix(), cross.ix[:,0].as_matrix()\n",
    "Xtest, ytest = test.ix[:, 1:].as_matrix(), test.ix[:,0].as_matrix()"
   ]
  },
  {
   "cell_type": "markdown",
   "metadata": {},
   "source": [
    "We shall then use logistic regression to make predictions.\n",
    "\n",
    "The code used to make the predictions is shown below. This is in a module called \"reg.py\". This calculates the cost fucntion for logisitic and the gradient."
   ]
  },
  {
   "cell_type": "code",
   "execution_count": 50,
   "metadata": {
    "collapsed": true
   },
   "outputs": [],
   "source": [
    "import numpy as np\n",
    "import scipy.optimize as op\n",
    "\n",
    "def Sigmoid(z):\n",
    "    return 1/(1 + np.exp(-z));\n",
    "\n",
    "\n",
    "\n",
    "def Gradient(theta,x,y, lam):\n",
    "    m , n = x.shape\n",
    "    theta = theta.reshape((n,1));\n",
    "    y = y.reshape((m,1))\n",
    "    sigmoid_x_theta = Sigmoid(x.dot(theta));\n",
    "    grad = ((x.T).dot(sigmoid_x_theta-y))/m;\n",
    "    reg = theta[1:] * (lam/float(m))\n",
    "    grad[1:] += reg\n",
    "    return grad.flatten();\n",
    "\n",
    "def CostFunc(theta, x, y, lam):\n",
    "    m,n = x.shape; \n",
    "    theta = theta.reshape((n,1));\n",
    "    y = y.reshape((m,1));\n",
    "    term1 = np.log(Sigmoid(x.dot(theta)));\n",
    "    term2 = np.log(1-Sigmoid(x.dot(theta)));\n",
    "    term1 = term1.reshape((m,1))\n",
    "    term2 = term2.reshape((m,1))\n",
    "    term = y * term1 + (1 - y) * term2;\n",
    "    J = -((np.sum(term))/m) + (np.sum(theta**2)*(lam/float(m)));\n",
    "    return J;"
   ]
  },
  {
   "cell_type": "markdown",
   "metadata": {},
   "source": [
    "We use one of the functions from the scientific library, scipy to optimize logisitic regression and obtain a an optimal model. We use the training set to traing the model the evaluate it on the cross-validation set. We use a version of logistic regression called regularized which prevents over-fitting. We shall validate the regularization parameter, lambda on the cross-validation and obtain an optimal one as  well."
   ]
  },
  {
   "cell_type": "code",
   "execution_count": 51,
   "metadata": {
    "collapsed": false
   },
   "outputs": [],
   "source": [
    "import reg\n",
    "m,n = X.shape\n",
    "\n",
    "best_cost =200\n",
    "best_lam=20\n",
    "best_theta = np.zeros(n)\n",
    "lams =[0.01, 0.03, 0.05, 0.1, 0.3, 0.5, 1, 10]\n",
    "\n",
    "for lam in lams:\n",
    "    initial_theta = np.zeros(n)\n",
    "    Result = reg.op.minimize(fun = reg.CostFunc, x0 = initial_theta, args = (X, y, lam),method = 'TNC',jac = reg.Gradient);\n",
    "    optimal_theta = Result.x\n",
    "    cost = reg.CostFunc(optimal_theta, Xval, yval, lam)\n",
    "    if cost<best_cost:\n",
    "        best_cost = cost\n",
    "        best_lam = lam\n",
    "        best_theta = optimal_theta"
   ]
  },
  {
   "cell_type": "markdown",
   "metadata": {},
   "source": [
    "best_theta contains the logistic regression parameters that provide us our model. best_lam is the regularization lamda that work best on our data."
   ]
  },
  {
   "cell_type": "markdown",
   "metadata": {},
   "source": [
    "We can then make predictions. And get the accuracy of our model. We shall run this on the test dataset."
   ]
  },
  {
   "cell_type": "code",
   "execution_count": 52,
   "metadata": {
    "collapsed": true
   },
   "outputs": [],
   "source": [
    "test_preds = reg.Sigmoid(Xtest.dot(best_theta))"
   ]
  },
  {
   "cell_type": "code",
   "execution_count": 53,
   "metadata": {
    "collapsed": false
   },
   "outputs": [],
   "source": [
    "test_preds[test_preds<0.5]=0\n",
    "test_preds[test_preds>0.5]=1"
   ]
  },
  {
   "cell_type": "code",
   "execution_count": 54,
   "metadata": {
    "collapsed": false
   },
   "outputs": [
    {
     "data": {
      "text/plain": [
       "True     150\n",
       "False     29\n",
       "dtype: int64"
      ]
     },
     "execution_count": 54,
     "metadata": {},
     "output_type": "execute_result"
    }
   ],
   "source": [
    "pd.Series(test_preds==ytest).value_counts()"
   ]
  },
  {
   "cell_type": "markdown",
   "metadata": {},
   "source": [
    "We can see that of the 179 test examples, our model predicted the survival for 147 of them correctly. This is good for an accuracy of 82.1%. This is a decent accuracy thoug it could probably be improved. Further analysis and munging on the names and dock of embarkment may help provide better results."
   ]
  }
 ],
 "metadata": {
  "kernelspec": {
   "display_name": "Python 2",
   "language": "python",
   "name": "python2"
  },
  "language_info": {
   "codemirror_mode": {
    "name": "ipython",
    "version": 2
   },
   "file_extension": ".py",
   "mimetype": "text/x-python",
   "name": "python",
   "nbconvert_exporter": "python",
   "pygments_lexer": "ipython2",
   "version": "2.7.11"
  }
 },
 "nbformat": 4,
 "nbformat_minor": 0
}
